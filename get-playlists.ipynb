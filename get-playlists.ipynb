{
 "cells": [
  {
   "cell_type": "code",
   "execution_count": 1,
   "metadata": {},
   "outputs": [],
   "source": [
    "import requests\n",
    "import pandas as pd"
   ]
  },
  {
   "cell_type": "code",
   "execution_count": 21,
   "metadata": {},
   "outputs": [],
   "source": [
    "access_token = ''"
   ]
  },
  {
   "cell_type": "code",
   "execution_count": 22,
   "metadata": {},
   "outputs": [],
   "source": [
    "headers = {'Authorization': 'Bearer {}'.format(access_token)}\n",
    "user_url = 'https://api.spotify.com/v1/me'\n",
    "\n",
    "r = requests.get(user_url, headers=headers)"
   ]
  },
  {
   "cell_type": "code",
   "execution_count": 23,
   "metadata": {},
   "outputs": [
    {
     "data": {
      "text/plain": [
       "'{\\n  \"country\" : \"US\",\\n  \"display_name\" : \"guidopetri\",\\n  \"email\" : \"guidopetri@gmail.com\",\\n  \"explicit_content\" : {\\n    \"filter_enabled\" : false,\\n    \"filter_locked\" : false\\n  },\\n  \"external_urls\" : {\\n    \"spotify\" : \"https://open.spotify.com/user/guidopetri\"\\n  },\\n  \"followers\" : {\\n    \"href\" : null,\\n    \"total\" : 8\\n  },\\n  \"href\" : \"https://api.spotify.com/v1/users/guidopetri\",\\n  \"id\" : \"guidopetri\",\\n  \"images\" : [ ],\\n  \"product\" : \"premium\",\\n  \"type\" : \"user\",\\n  \"uri\" : \"spotify:user:guidopetri\"\\n}'"
      ]
     },
     "execution_count": 23,
     "metadata": {},
     "output_type": "execute_result"
    }
   ],
   "source": [
    "r.text"
   ]
  },
  {
   "cell_type": "code",
   "execution_count": 24,
   "metadata": {},
   "outputs": [
    {
     "data": {
      "text/plain": [
       "dict_keys(['country', 'display_name', 'email', 'explicit_content', 'external_urls', 'followers', 'href', 'id', 'images', 'product', 'type', 'uri'])"
      ]
     },
     "execution_count": 24,
     "metadata": {},
     "output_type": "execute_result"
    }
   ],
   "source": [
    "user_data = r.json()\n",
    "user_data.keys()"
   ]
  },
  {
   "cell_type": "code",
   "execution_count": 25,
   "metadata": {},
   "outputs": [],
   "source": [
    "playlists_url = f'https://api.spotify.com/v1/users/{user_data[\"id\"]}/playlists'\n",
    "params = {'limit': 50}\n",
    "\n",
    "playlists = []\n",
    "\n",
    "while playlists_url is not None:\n",
    "    r = requests.get(playlists_url, params=params, headers=headers)\n",
    "    \n",
    "    data = r.json()\n",
    "    \n",
    "    playlists.extend(data['items'])\n",
    "    playlists_url = data['next']"
   ]
  },
  {
   "cell_type": "code",
   "execution_count": 26,
   "metadata": {},
   "outputs": [],
   "source": [
    "names = [x['name'] for x in playlists]\n",
    "start = names.index('Deal with later') + 1\n",
    "end = names.index('Shazam')\n",
    "names = names[start:end]"
   ]
  },
  {
   "cell_type": "code",
   "execution_count": 27,
   "metadata": {},
   "outputs": [],
   "source": [
    "filtered_playlists = [playlist for playlist in playlists if playlist['name'] in names]"
   ]
  },
  {
   "cell_type": "code",
   "execution_count": 28,
   "metadata": {},
   "outputs": [
    {
     "data": {
      "text/plain": [
       "{'href': 'https://api.spotify.com/v1/playlists/7IRnBmuIaf3GfPfjLm8UDN/tracks',\n",
       " 'total': 20}"
      ]
     },
     "execution_count": 28,
     "metadata": {},
     "output_type": "execute_result"
    }
   ],
   "source": [
    "filtered_playlists[0]['tracks']"
   ]
  },
  {
   "cell_type": "code",
   "execution_count": 29,
   "metadata": {},
   "outputs": [],
   "source": [
    "params = {'limit': 100, 'fields': 'items(track(id)),next'}\n",
    "\n",
    "playlist_tracks = {}\n",
    "\n",
    "for playlist in filtered_playlists:\n",
    "    tracks_url = playlist['tracks']['href']\n",
    "    tracks = []\n",
    "    \n",
    "    while tracks_url is not None:\n",
    "        r = requests.get(tracks_url, headers=headers, params=params)\n",
    "        \n",
    "        data = r.json()\n",
    "        \n",
    "        tracks.extend([x['track']['id'] for x in data['items']])\n",
    "        \n",
    "        tracks_url = data['next']\n",
    "    \n",
    "    playlist_tracks[playlist['name']] = tracks"
   ]
  },
  {
   "cell_type": "code",
   "execution_count": 40,
   "metadata": {},
   "outputs": [
    {
     "data": {
      "text/plain": [
       "[[('Videogame', '3kK24sf6YfIvbJfGC48vN7'),\n",
       "  ('Videogame', '0prSDXsNF1lSh3rsVJS91W'),\n",
       "  ('Videogame', '6KuqKhcEn0vlT8QegxbM7m'),\n",
       "  ('Videogame', '6ksdQIV6qpxdanDbmSIvtx'),\n",
       "  ('Videogame', '108dAAiaSorOEJMMOPVlzK'),\n",
       "  ('Videogame', '6LlIPRpFJMDcw8b4b7eSlq'),\n",
       "  ('Videogame', '5sYgsJJpbyfKCm8s4cRrWE'),\n",
       "  ('Videogame', '6rCQkxKkNSLksQJZGI2A8I'),\n",
       "  ('Videogame', '7awSiJ4aLoUb1AUDl32HFy'),\n",
       "  ('Videogame', '67gAKzJfIr8xzVEcS3dDqr'),\n",
       "  ('Videogame', '6QlJ9q2zyN1ABQnDjwEyP3'),\n",
       "  ('Videogame', '7Aj6EzwA0xLNN5XnUI7kTD'),\n",
       "  ('Videogame', '3QVKVC7x6ka08um8fz7SEx'),\n",
       "  ('Videogame', '50Iox7zPgdsnn7teyvmCgh'),\n",
       "  ('Videogame', '2Onfq0K0IsF2rxgufvYJLV'),\n",
       "  ('Videogame', '36oCvQSDpJzDNUMRvYyDRe'),\n",
       "  ('Videogame', '7x9XYTscRLGrwRkDLlFRe8'),\n",
       "  ('Videogame', '6a0ggIME71sZdFlnY3ARy7'),\n",
       "  ('Videogame', '1KIlKiOeAjKXDwdocHuHUz'),\n",
       "  ('Videogame', '7hXIA7fZHRXI2PjgkUf7Cx'),\n",
       "  ('Videogame', '1WL7wxZB266w7SeO6aLZ9Q'),\n",
       "  ('Videogame', '2NsaQhLEmCcziiS2HB1C8t'),\n",
       "  ('Videogame', '7zx0r1pcEiX92UwJ3MuNbV'),\n",
       "  ('Videogame', '1BnUsTRDsBhlZhTSUzniCf'),\n",
       "  ('Videogame', '4SkaqNVkYf79qdIUQM5nMs'),\n",
       "  ('Videogame', '4Ub2nExkn7hkLfYuEPNVsM'),\n",
       "  ('Videogame', '0NED3cPyXemHq72MCGBkXk'),\n",
       "  ('Videogame', '3HcfDJ43wJvx9soXenX4xY'),\n",
       "  ('Videogame', '2P2zzsK0l3SdQO59JiAxyM'),\n",
       "  ('Videogame', '5KBHiVf9FrcQ5G1Y20MSi9'),\n",
       "  ('Videogame', '5ubzSnC54YpxR4zfJcxyuN'),\n",
       "  ('Videogame', '67F3Y09MN1WZ6tGqhHH9Js'),\n",
       "  ('Videogame', '6sEI9zpT61SPBtySUJHdlj'),\n",
       "  ('Videogame', '6CkG96fTg3ddaaZUU1GvtB'),\n",
       "  ('Videogame', '1CiliAlbwsyMye8dFgYGYy'),\n",
       "  ('Videogame', '6PSTNGGk6hVjcmprZAiFco'),\n",
       "  ('Videogame', '3xwmcsbtCzlhrsxbFD4lH6'),\n",
       "  ('Videogame', '7DyaRfsRzHv0riqtj1rzeE'),\n",
       "  ('Videogame', '4YidEz8xGN9NZeUXFc94yw'),\n",
       "  ('Videogame', '3EvKMOza19flKYhakbuElS')]]"
      ]
     },
     "execution_count": 40,
     "metadata": {},
     "output_type": "execute_result"
    }
   ],
   "source": [
    "x = []\n",
    "x.append([y for y in zip(cycle([playlist['name']]), tracks)])\n",
    "x"
   ]
  },
  {
   "cell_type": "code",
   "execution_count": 30,
   "metadata": {},
   "outputs": [
    {
     "data": {
      "text/plain": [
       "dict_keys(['Breaks', 'Brostep', 'Country', 'Dance', 'Deep House', 'Disco', 'Downtempo', 'Drum n Bass', 'Drumstep', 'Dubstep', 'Dutch House', 'Electro', 'Electro House', 'Electro Swing', 'Funky House', 'G House', 'Garage', 'Glitch Hop', 'Grime', 'Hard Trance', 'Hardstyle', 'Heavy Metal', 'House', 'Instrumental Hip-Hop', 'Old Skool', 'Pop', 'Pop House', 'Progressive House', 'Psytrance', 'Rap', 'Reggae', 'Rock', 'Tech House', 'Trance', 'Trancestep', 'Trap', 'Trop House', 'Videogame'])"
      ]
     },
     "execution_count": 30,
     "metadata": {},
     "output_type": "execute_result"
    }
   ],
   "source": [
    "playlist_tracks.keys()"
   ]
  },
  {
   "cell_type": "code",
   "execution_count": 31,
   "metadata": {},
   "outputs": [],
   "source": [
    "from itertools import cycle"
   ]
  },
  {
   "cell_type": "code",
   "execution_count": 20,
   "metadata": {},
   "outputs": [],
   "source": [
    "playlists_df = pd.DataFrame((k, v) for k in playlist_tracks.keys() for v in playlist_tracks[k])\n",
    "#playlists_df.set_index(1, inplace=True)\n",
    "playlists_df.columns = ['genre', 'track_id']"
   ]
  },
  {
   "cell_type": "code",
   "execution_count": 24,
   "metadata": {},
   "outputs": [],
   "source": [
    "playlists_df.to_csv('playlists-tracks.csv')"
   ]
  }
 ],
 "metadata": {
  "kernelspec": {
   "display_name": "Python 3",
   "language": "python",
   "name": "python3"
  },
  "language_info": {
   "codemirror_mode": {
    "name": "ipython",
    "version": 3
   },
   "file_extension": ".py",
   "mimetype": "text/x-python",
   "name": "python",
   "nbconvert_exporter": "python",
   "pygments_lexer": "ipython3",
   "version": "3.6.9"
  }
 },
 "nbformat": 4,
 "nbformat_minor": 2
}
