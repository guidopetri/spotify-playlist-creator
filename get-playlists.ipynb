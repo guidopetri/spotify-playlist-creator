{
 "cells": [
  {
   "cell_type": "code",
   "execution_count": 1,
   "metadata": {},
   "outputs": [],
   "source": [
    "import requests\n",
    "import pandas as pd"
   ]
  },
  {
   "cell_type": "code",
   "execution_count": 2,
   "metadata": {},
   "outputs": [],
   "source": [
    "access_token = ''"
   ]
  },
  {
   "cell_type": "code",
   "execution_count": 3,
   "metadata": {},
   "outputs": [],
   "source": [
    "headers = {'Authorization': 'Bearer {}'.format(access_token)}\n",
    "user_url = 'https://api.spotify.com/v1/me'\n",
    "\n",
    "r = requests.get(user_url, headers=headers)"
   ]
  },
  {
   "cell_type": "code",
   "execution_count": 4,
   "metadata": {},
   "outputs": [
    {
     "data": {
      "text/plain": [
       "dict_keys(['country', 'display_name', 'email', 'explicit_content', 'external_urls', 'followers', 'href', 'id', 'images', 'product', 'type', 'uri'])"
      ]
     },
     "execution_count": 4,
     "metadata": {},
     "output_type": "execute_result"
    }
   ],
   "source": [
    "user_data = r.json()\n",
    "user_data.keys()"
   ]
  },
  {
   "cell_type": "code",
   "execution_count": 5,
   "metadata": {},
   "outputs": [],
   "source": [
    "playlists_url = f'https://api.spotify.com/v1/users/{user_data[\"id\"]}/playlists'\n",
    "params = {'limit': 50}\n",
    "\n",
    "playlists = []\n",
    "\n",
    "while playlists_url is not None:\n",
    "    r = requests.get(playlists_url, params=params, headers=headers)\n",
    "    \n",
    "    data = r.json()\n",
    "    \n",
    "    playlists.extend(data['items'])\n",
    "    playlists_url = data['next']"
   ]
  },
  {
   "cell_type": "code",
   "execution_count": 6,
   "metadata": {},
   "outputs": [],
   "source": [
    "names = [x['name'] for x in playlists]\n",
    "start = names.index('Deal with later') + 1\n",
    "end = names.index('Shazam')\n",
    "names = names[start:end]"
   ]
  },
  {
   "cell_type": "code",
   "execution_count": 7,
   "metadata": {},
   "outputs": [],
   "source": [
    "filtered_playlists = [playlist for playlist in playlists if playlist['name'] in names]"
   ]
  },
  {
   "cell_type": "code",
   "execution_count": 8,
   "metadata": {},
   "outputs": [
    {
     "data": {
      "text/plain": [
       "{'href': 'https://api.spotify.com/v1/playlists/7IRnBmuIaf3GfPfjLm8UDN/tracks',\n",
       " 'total': 20}"
      ]
     },
     "execution_count": 8,
     "metadata": {},
     "output_type": "execute_result"
    }
   ],
   "source": [
    "filtered_playlists[0]['tracks']"
   ]
  },
  {
   "cell_type": "code",
   "execution_count": 9,
   "metadata": {},
   "outputs": [],
   "source": [
    "params = {'limit': 100, 'fields': 'items(track(id)),next'}\n",
    "\n",
    "playlist_tracks = {}\n",
    "\n",
    "for playlist in filtered_playlists:\n",
    "    tracks_url = playlist['tracks']['href']\n",
    "    tracks = []\n",
    "    \n",
    "    while tracks_url is not None:\n",
    "        r = requests.get(tracks_url, headers=headers, params=params)\n",
    "        \n",
    "        data = r.json()\n",
    "        \n",
    "        tracks.extend([x['track']['id'] for x in data['items']])\n",
    "        \n",
    "        tracks_url = data['next']\n",
    "    \n",
    "    playlist_tracks[playlist['name']] = tracks"
   ]
  },
  {
   "cell_type": "code",
   "execution_count": 10,
   "metadata": {},
   "outputs": [
    {
     "data": {
      "text/plain": [
       "dict_keys(['Breaks', 'Brostep', 'Country', 'Dance', 'Deep House', 'Disco', 'Downtempo', 'Drum n Bass', 'Drumstep', 'Dubstep', 'Dutch House', 'Electro', 'Electro House', 'Electro Swing', 'Funky House', 'G House', 'Garage', 'Glitch Hop', 'Grime', 'Hard Trance', 'Hardstyle', 'Heavy Metal', 'House', 'Instrumental Hip-Hop', 'Old Skool', 'Pop', 'Pop House', 'Progressive House', 'Psytrance', 'Rap', 'Reggae', 'Rock', 'Tech House', 'Trance', 'Trancestep', 'Trap', 'Trop House', 'Videogame'])"
      ]
     },
     "execution_count": 10,
     "metadata": {},
     "output_type": "execute_result"
    }
   ],
   "source": [
    "playlist_tracks.keys()"
   ]
  },
  {
   "cell_type": "code",
   "execution_count": 19,
   "metadata": {},
   "outputs": [],
   "source": [
    "from itertools import cycle"
   ]
  },
  {
   "cell_type": "code",
   "execution_count": 20,
   "metadata": {},
   "outputs": [],
   "source": [
    "playlists_df = pd.DataFrame((k, v) for k in playlist_tracks.keys() for v in playlist_tracks[k])\n",
    "#playlists_df.set_index(1, inplace=True)\n",
    "playlists_df.columns = ['genre', 'track_id']"
   ]
  },
  {
   "cell_type": "code",
   "execution_count": 24,
   "metadata": {},
   "outputs": [],
   "source": [
    "playlists_df.to_csv('playlists-tracks.csv')"
   ]
  }
 ],
 "metadata": {
  "kernelspec": {
   "display_name": "Python 3",
   "language": "python",
   "name": "python3"
  },
  "language_info": {
   "codemirror_mode": {
    "name": "ipython",
    "version": 3
   },
   "file_extension": ".py",
   "mimetype": "text/x-python",
   "name": "python",
   "nbconvert_exporter": "python",
   "pygments_lexer": "ipython3",
   "version": "3.6.9"
  }
 },
 "nbformat": 4,
 "nbformat_minor": 2
}
