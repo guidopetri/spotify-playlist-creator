{
 "cells": [
  {
   "cell_type": "code",
   "execution_count": 1,
   "metadata": {},
   "outputs": [],
   "source": [
    "import requests"
   ]
  },
  {
   "cell_type": "code",
   "execution_count": 16,
   "metadata": {},
   "outputs": [],
   "source": [
    "auth_url = 'https://accounts.spotify.com/authorize'\n",
    "\n",
    "params = {'client_id': 'd343494a0a57477eb1d4010821b7028c',\n",
    "          'response_type': 'code',\n",
    "          'redirect_uri': 'https://siddhartha.ddns.net/',\n",
    "          'scope': ' '.join(['ugc-image-upload',\n",
    "                             'user-read-playback-state',\n",
    "                             'user-modify-playback-state',\n",
    "                             'user-read-currently-playing',\n",
    "                             'streaming',\n",
    "                             'app-remote-control',\n",
    "                             'user-read-email',\n",
    "                             'user-read-private',\n",
    "                             'playlist-read-collaborative',\n",
    "                             'playlist-modify-public',\n",
    "                             'playlist-read-private',\n",
    "                             'playlist-modify-private',\n",
    "                             'user-library-modify',\n",
    "                             'user-library-read',\n",
    "                             'user-top-read',\n",
    "                             'user-read-recently-played',\n",
    "                             'user-follow-read',\n",
    "                             'user-follow-modify']),\n",
    "          }\n",
    "\n",
    "r = requests.get(auth_url, params=params)"
   ]
  },
  {
   "cell_type": "code",
   "execution_count": 24,
   "metadata": {},
   "outputs": [],
   "source": [
    "client_secret = ''"
   ]
  },
  {
   "cell_type": "code",
   "execution_count": 17,
   "metadata": {},
   "outputs": [
    {
     "data": {
      "text/plain": [
       "'https://accounts.spotify.com/authorize?client_id=d343494a0a57477eb1d4010821b7028c&response_type=code&redirect_uri=https://siddhartha.ddns.net/&scope=ugc-image-upload user-read-playback-state user-modify-playback-state user-read-currently-playing streaming app-remote-control user-read-email user-read-private playlist-read-collaborative playlist-modify-public playlist-read-private playlist-modify-private user-library-modify user-library-read user-top-read user-read-recently-played user-follow-read user-follow-modify'"
      ]
     },
     "execution_count": 17,
     "metadata": {},
     "output_type": "execute_result"
    }
   ],
   "source": [
    "auth_url + '?' + '&'.join(['{}={}'.format(k, v) for k, v in params.items()])"
   ]
  },
  {
   "cell_type": "code",
   "execution_count": 18,
   "metadata": {},
   "outputs": [
    {
     "data": {
      "text/plain": [
       "<Response [200]>"
      ]
     },
     "execution_count": 18,
     "metadata": {},
     "output_type": "execute_result"
    }
   ],
   "source": [
    "r"
   ]
  },
  {
   "cell_type": "code",
   "execution_count": 19,
   "metadata": {},
   "outputs": [
    {
     "data": {
      "text/plain": [
       "'\\n<!DOCTYPE html>\\n<html id=\"app\" lang=\"en\" dir=\"ltr\" ng-csp ng-strict-di>\\n<head>\\n  <meta charset=\"utf-8\">\\n  <title ng-bind=\"(&#39;loginTitle&#39; | localize) + &#39; - Spotify&#39;\">Spotify</title>\\n  <meta name=\"viewport\" content=\"width=device-width, initial-scale=1.0, maximum-scale=1.0, user-scalable=no\">\\n  <base href=\"/\">\\n  <link rel=\"icon\" href=\"https://accounts.scdn.co/images/favicon.ace4d8543bbb017893402a1e9d1ac1fa.ico\">\\n  <link href=\"https://accounts.scdn.co/css/index.adf7c4176aca1603ab00.css\" media=\"screen\" rel=\"stylesheet\">\\n\\n  <script defer src=\"https://accounts.scdn.co/js/index.adf7c4176aca1603ab00.js\" sp-bootstrap></script>\\n  <meta ng-non-bindable sp-bootstrap-data=\\'{\"phoneFeatureEnabled\":false,\"user\":false,\"BON\":[\"0\",\"0\",-46352670]}\\'>\\n</head>\\n<body ng-controller=\"LoginController\">\\n  <div ng-include=\"template\"></div>\\n</body>\\n</html>\\n'"
      ]
     },
     "execution_count": 19,
     "metadata": {},
     "output_type": "execute_result"
    }
   ],
   "source": [
    "r.text"
   ]
  },
  {
   "cell_type": "code",
   "execution_count": 20,
   "metadata": {},
   "outputs": [],
   "source": [
    "code = ''"
   ]
  },
  {
   "cell_type": "code",
   "execution_count": 23,
   "metadata": {},
   "outputs": [],
   "source": [
    "code = code.split('code=')[1]"
   ]
  },
  {
   "cell_type": "code",
   "execution_count": 31,
   "metadata": {},
   "outputs": [],
   "source": [
    "auth_url_token = 'https://accounts.spotify.com/api/token'\n",
    "\n",
    "payload = {'client_id': 'd343494a0a57477eb1d4010821b7028c',\n",
    "           'client_secret': client_secret,\n",
    "           'response_type': 'code',\n",
    "           'code': code,\n",
    "           'grant_type': 'authorization_code',\n",
    "           'redirect_uri': 'https://siddhartha.ddns.net/',\n",
    "           }\n",
    "\n",
    "r = requests.post(auth_url_token, data=payload)"
   ]
  },
  {
   "cell_type": "code",
   "execution_count": 48,
   "metadata": {},
   "outputs": [],
   "source": [
    "tokens = r.json()"
   ]
  },
  {
   "cell_type": "code",
   "execution_count": 34,
   "metadata": {},
   "outputs": [],
   "source": [
    "access_token = tokens['access_token']\n",
    "refresh_token = tokens['refresh_token']"
   ]
  },
  {
   "cell_type": "code",
   "execution_count": 35,
   "metadata": {},
   "outputs": [],
   "source": [
    "headers = {'Authorization': 'Bearer {}'.format(access_token)}\n",
    "saved_tracks_url = 'https://api.spotify.com/v1/me/tracks'\n",
    "params = {'limit': 50}\n",
    "\n",
    "r = requests.get(saved_tracks_url, params=params, headers=headers)"
   ]
  },
  {
   "cell_type": "code",
   "execution_count": 36,
   "metadata": {},
   "outputs": [
    {
     "data": {
      "text/plain": [
       "<Response [200]>"
      ]
     },
     "execution_count": 36,
     "metadata": {},
     "output_type": "execute_result"
    }
   ],
   "source": [
    "r"
   ]
  },
  {
   "cell_type": "code",
   "execution_count": 38,
   "metadata": {},
   "outputs": [],
   "source": [
    "first_50 = r.json()"
   ]
  },
  {
   "cell_type": "code",
   "execution_count": 47,
   "metadata": {},
   "outputs": [
    {
     "data": {
      "text/plain": [
       "dict_keys(['album', 'artists', 'available_markets', 'disc_number', 'duration_ms', 'explicit', 'external_ids', 'external_urls', 'href', 'id', 'is_local', 'name', 'popularity', 'preview_url', 'track_number', 'type', 'uri'])"
      ]
     },
     "execution_count": 47,
     "metadata": {},
     "output_type": "execute_result"
    }
   ],
   "source": [
    "first_50['items'][0]['track'].keys()"
   ]
  },
  {
   "cell_type": "code",
   "execution_count": null,
   "metadata": {},
   "outputs": [],
   "source": []
  }
 ],
 "metadata": {
  "kernelspec": {
   "display_name": "Python 3",
   "language": "python",
   "name": "python3"
  },
  "language_info": {
   "codemirror_mode": {
    "name": "ipython",
    "version": 3
   },
   "file_extension": ".py",
   "mimetype": "text/x-python",
   "name": "python",
   "nbconvert_exporter": "python",
   "pygments_lexer": "ipython3",
   "version": "3.6.9"
  }
 },
 "nbformat": 4,
 "nbformat_minor": 2
}
